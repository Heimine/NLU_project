{
 "cells": [
  {
   "cell_type": "code",
   "execution_count": 1,
   "metadata": {},
   "outputs": [],
   "source": [
    "import json,time\n",
    "import numpy as np\n",
    "import pandas as pd\n",
    "import os, subprocess\n",
    "import argparse\n",
    "from collections import OrderedDict\n",
    "import operator"
   ]
  },
  {
   "cell_type": "code",
   "execution_count": 6,
   "metadata": {},
   "outputs": [
    {
     "name": "stderr",
     "output_type": "stream",
     "text": [
      "usage: ipykernel_launcher.py [-h] [--nbest_path NBEST_PATH]\n",
      "                             [--output_path OUTPUT_PATH]\n",
      "ipykernel_launcher.py: error: unrecognized arguments: -f /Users/yanxu/Library/Jupyter/runtime/kernel-dbaa86ed-8efc-4c53-9938-220fbcbe12d8.json\n"
     ]
    },
    {
     "ename": "SystemExit",
     "evalue": "2",
     "output_type": "error",
     "traceback": [
      "An exception has occurred, use %tb to see the full traceback.\n",
      "\u001b[0;31mSystemExit\u001b[0m\u001b[0;31m:\u001b[0m 2\n"
     ]
    }
   ],
   "source": [
    "parser = argparse.ArgumentParser(description='Shape the answer')\n",
    "parser.add_argument('--nbest_path', type=str,  help='location of nbest_predictions.json')\n",
    "parser.add_argument('--output_path', type=str,  help='location of nbest_predictions.json')\n",
    "args = parser.parse_args()"
   ]
  },
  {
   "cell_type": "code",
   "execution_count": 7,
   "metadata": {},
   "outputs": [],
   "source": [
    "def textrip(text):\n",
    "    if text==\"\":\n",
    "        return text\n",
    "    if text[-1]==',' or text[-1]=='.' or text[-1]==' ':\n",
    "        return text[:-1]\n",
    "    if len(text)>2 and text[0]=='(' and text[-1]==')':\n",
    "        if text.count('(')==1 and text.count(')')==1:\n",
    "            return text[1:-1]\n",
    "    if ('(' in text) and (')' not in text):\n",
    "        return \"\"\n",
    "    if ('(' not in text) and (')' in text):\n",
    "        return \"\"\n",
    "    return text"
   ]
  },
  {
   "cell_type": "code",
   "execution_count": null,
   "metadata": {},
   "outputs": [],
   "source": [
    "#### Checking nbest_BioASQ-test prediction.json\n",
    "if not os.path.exists(args.nbest_path):\n",
    "    print(\"No file exists!\\n#### Fatal Error : Abort!\")\n",
    "    raise\n",
    "\n",
    "#### Reading Pred File\n",
    "with open(args.nbest_path, \"r\") as reader:\n",
    "    test=json.load(reader)\n",
    "\n",
    "qidDict=dict()\n",
    "if True:\n",
    "    for multiQid in test:\n",
    "        assert len(multiQid)==(24+4) \n",
    "        if not multiQid[:-4] in qidDict:\n",
    "            qidDict[multiQid[:-4]]=[test[multiQid]]\n",
    "        else :\n",
    "            qidDict[multiQid[:-4]].append(test[multiQid])\n",
    "else: \n",
    "    qidDict={qid:[test[qid]] for qid in test}    \n",
    "\n",
    "\n",
    "entryList=[]\n",
    "entryListWithProb=[]\n",
    "\n",
    "for qid in qidDict:\n",
    "\n",
    "    jsonList=[]\n",
    "    for jsonele in qidDict[qid]: \n",
    "        jsonList+=jsonele\n",
    "\n",
    "    #if not args.multi_output:\n",
    "    qidDf=pd.DataFrame().from_dict(jsonList)\n",
    "    \n",
    "    \n",
    "    sortedDf=qidDf.sort_values(by='probability', axis=0, ascending=False)\n",
    "\n",
    "    sortedSumDict=OrderedDict()\n",
    "    sortedSumDictKeyDict=dict() \n",
    "\n",
    "  \n",
    "    for index in sortedDf.index:\n",
    "    text = sortedDf.ix[index][\"text\"]\n",
    "    text=textrip(text)\n",
    "    if text==\"\":\n",
    "        pass\n",
    "    elif len(text)>100:\n",
    "            pass\n",
    "    elif text.lower() in sortedSumDictKeyDict:\n",
    "        sortedSumDict[sortedSumDictKeyDict[text.lower()]] += sortedDf.ix[index][\"probability\"]\n",
    "    else:\n",
    "        sortedSumDictKeyDict[text.lower()]=text\n",
    "        sortedSumDict[sortedSumDictKeyDict[text.lower()]] = sortedDf.ix[index][\"probability\"]        \n",
    "    finalSorted=sorted(sortedSumDict.items(), key=operator.itemgetter(1), reverse=True) \n",
    "    \n",
    "    entry={u\"type\":\"factoid\", \n",
    "\n",
    "    u\"id\":qid,\n",
    "    u\"ideal_answer\":[\"Dummy\"],\n",
    "    u\"exact_answer\":[[ans[0]] for ans in finalSorted[:5]],\n",
    "    \n",
    "    }\n",
    "    entryList.append(entry)\n",
    "    \n",
    "    entryWithProb={u\"type\":\"factoid\", \n",
    "    u\"id\":qid, # must be 24 char\n",
    "    u\"ideal_answer\":[\"Dummy\"],\n",
    "    u\"exact_answer\":[ans for ans in finalSorted[:20]],\n",
    "    }\n",
    "    entryListWithProb.append(entryWithProb)\n",
    "finalformat={u'questions':entryList}\n",
    "finalformatWithProb={u'questions':entryListWithProb}\n",
    "\n",
    "if os.path.isdir(args.output_path):\n",
    "    outfilepath=os.path.join(args.output_path, \"BioASQform_BioASQ-answer.json\")\n",
    "    outWithProbfilepath=os.path.join(args.output_path, \"WithProb_BioASQform_BioASQ-answer.json\")\n",
    "else:\n",
    "    outfilepath=args.output_path\n",
    "    outWithProbfilepath=args.output_path+\"_WithProb\"\n",
    "\n",
    "with open(outfilepath, \"w\") as outfile:\n",
    "    json.dump(finalformat, outfile, indent=2)\n",
    "with open(outWithProbfilepath, \"w\") as outfile_prob:\n",
    "    json.dump(finalformatWithProb, outfile_prob, indent=2)\n"
   ]
  }
 ],
 "metadata": {
  "kernelspec": {
   "display_name": "Python 3",
   "language": "python",
   "name": "python3"
  },
  "language_info": {
   "codemirror_mode": {
    "name": "ipython",
    "version": 3
   },
   "file_extension": ".py",
   "mimetype": "text/x-python",
   "name": "python",
   "nbconvert_exporter": "python",
   "pygments_lexer": "ipython3",
   "version": "3.7.3"
  }
 },
 "nbformat": 4,
 "nbformat_minor": 2
}
